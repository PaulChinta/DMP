{
  "nbformat": 4,
  "nbformat_minor": 0,
  "metadata": {
    "colab": {
      "provenance": [],
      "authorship_tag": "ABX9TyNPwBucd03Mxq4rQtUD/jEn",
      "include_colab_link": true
    },
    "kernelspec": {
      "name": "python3",
      "display_name": "Python 3"
    },
    "language_info": {
      "name": "python"
    }
  },
  "cells": [
    {
      "cell_type": "markdown",
      "metadata": {
        "id": "view-in-github",
        "colab_type": "text"
      },
      "source": [
        "<a href=\"https://colab.research.google.com/github/PaulChinta/DMP/blob/main/DMP.ipynb\" target=\"_parent\"><img src=\"https://colab.research.google.com/assets/colab-badge.svg\" alt=\"Open In Colab\"/></a>"
      ]
    },
    {
      "cell_type": "code",
      "execution_count": null,
      "metadata": {
        "colab": {
          "base_uri": "https://localhost:8080/"
        },
        "id": "xYrrtGZH3BNv",
        "outputId": "aed1067e-a0d0-4b2a-a16e-360d8f921ed4"
      },
      "outputs": [
        {
          "output_type": "stream",
          "name": "stdout",
          "text": [
            "Mounted at /content/drive\n"
          ]
        }
      ],
      "source": [
        "from google.colab import drive\n",
        "drive.mount('/content/drive')"
      ]
    },
    {
      "cell_type": "code",
      "source": [
        "import os\n",
        "os.environ['KAGGLE_CONFIG_DIR']='/content/drive/MyDrive/Kaggle/'\n",
        "%cd '/content/drive/MyDrive/DMproject/'"
      ],
      "metadata": {
        "colab": {
          "base_uri": "https://localhost:8080/"
        },
        "id": "s4NqXPUB4kSH",
        "outputId": "b3d9f112-1163-4b6b-b136-85f138b2129e"
      },
      "execution_count": null,
      "outputs": [
        {
          "output_type": "stream",
          "name": "stdout",
          "text": [
            "/content/drive/MyDrive/DMproject\n"
          ]
        }
      ]
    },
    {
      "cell_type": "code",
      "source": [
        "!kaggle datasets download -d aryashah2k/mango-leaf-disease-dataset"
      ],
      "metadata": {
        "colab": {
          "base_uri": "https://localhost:8080/"
        },
        "id": "fE5atS4H4kWi",
        "outputId": "566128f5-fcbe-41fb-8525-f765ba60b3fe"
      },
      "execution_count": null,
      "outputs": [
        {
          "output_type": "stream",
          "name": "stdout",
          "text": [
            "Downloading mango-leaf-disease-dataset.zip to /content/drive/MyDrive/DMproject\n",
            " 86% 89.0M/103M [00:01<00:00, 70.2MB/s]\n",
            "100% 103M/103M [00:01<00:00, 67.0MB/s] \n"
          ]
        }
      ]
    },
    {
      "cell_type": "code",
      "source": [
        "!unzip \\*.zip && rm *.zip"
      ],
      "metadata": {
        "id": "_9IGzDxg5DOE"
      },
      "execution_count": null,
      "outputs": []
    },
    {
      "cell_type": "code",
      "source": [
        "%ls"
      ],
      "metadata": {
        "colab": {
          "base_uri": "https://localhost:8080/"
        },
        "id": "an9lQBBU5FDW",
        "outputId": "c53a4786-2142-4331-f00d-e9a5201c291d"
      },
      "execution_count": null,
      "outputs": [
        {
          "output_type": "stream",
          "name": "stdout",
          "text": [
            " \u001b[0m\u001b[01;34mAnthracnose\u001b[0m/          \u001b[01;34m'Cutting Weevil'\u001b[0m/   \u001b[01;34mHealthy\u001b[0m/\n",
            "\u001b[01;34m'Bacterial Canker'\u001b[0m/    \u001b[01;34m'Die Back'\u001b[0m/        \u001b[01;34m'Powdery Mildew'\u001b[0m/\n",
            "'Copy of kaggle.json'  \u001b[01;34m'Gall Midge'\u001b[0m/      \u001b[01;34m'Sooty Mould'\u001b[0m/\n"
          ]
        }
      ]
    },
    {
      "cell_type": "code",
      "source": [
        "import matplotlib\n",
        "import numpy as np\n",
        "import tensorflow as tf"
      ],
      "metadata": {
        "id": "fA68vyIP53mT"
      },
      "execution_count": null,
      "outputs": []
    },
    {
      "cell_type": "code",
      "source": [
        "train_images=[]\n",
        "\n",
        "for train_image,test_image in zip(train_folder,test_folder):\n",
        "  train_images.append(np.float32(plt.imread('Eigenfaces/Train/'+train_image))/255.0)"
      ],
      "metadata": {
        "id": "wF-d2ygM5ybE"
      },
      "execution_count": null,
      "outputs": []
    },
    {
      "cell_type": "code",
      "source": [],
      "metadata": {
        "id": "z2M4n6ss6cRr"
      },
      "execution_count": null,
      "outputs": []
    },
    {
      "cell_type": "code",
      "source": [
        "fig, axes = plt.subplots(nrows=5, ncols=5, figsize=(3,3))\n",
        "for i, ax in enumerate(axes.flat):\n",
        "    ax.imshow(cv2.resize(train_images[i],(100,100)))\n",
        "plt.show()"
      ],
      "metadata": {
        "id": "1p_SOS6H5l0Q"
      },
      "execution_count": null,
      "outputs": []
    }
  ]
}